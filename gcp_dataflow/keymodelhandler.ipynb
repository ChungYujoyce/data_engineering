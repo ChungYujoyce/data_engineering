{
 "cells": [
  {
   "cell_type": "code",
   "execution_count": 3,
   "id": "04f7a1bd-5675-4a7f-b972-03c44e015bb5",
   "metadata": {},
   "outputs": [],
   "source": [
    "import apache_beam as beam\n",
    "from apache_beam.runners.interactive.interactive_runner import InteractiveRunner\n",
    "from apache_beam.ml.inference.base import KeyedModelHandler, RunInference\n",
    "from apache_beam.dataframe.convert import to_dataframe\n",
    "\n",
    "import apache_beam.runners.interactive.interactive_beam as ib\n",
    "\n",
    "from modelhandler import SpacyModelHandler"
   ]
  },
  {
   "cell_type": "code",
   "execution_count": 4,
   "id": "78dc08d0-55e7-4d30-88e6-0ebc4a167f37",
   "metadata": {},
   "outputs": [],
   "source": [
    "text_strings_with_keys = [\n",
    "    (\"example_0\", \"The New York Times is an American daily newspaper based in New York City with a worldwide readership.\"),\n",
    "    (\"example_1\", \"It was founded in 1851 by Henry Jarvis Raymond and George Jones, and was initially published by Raymond, Jones & Company.\")\n",
    "]\n",
    "\n",
    "pipeline = beam.Pipeline(InteractiveRunner())\n",
    "\n",
    "keyed_spacy_model_handler = KeyedModelHandler(SpacyModelHandler(\"en_core_web_sm\"))"
   ]
  },
  {
   "cell_type": "code",
   "execution_count": 5,
   "id": "f040738c-d2ec-4f2b-815a-d907b2f9667d",
   "metadata": {},
   "outputs": [
    {
     "data": {
      "text/html": [
       "\n",
       "            <link rel=\"stylesheet\" href=\"https://stackpath.bootstrapcdn.com/bootstrap/4.4.1/css/bootstrap.min.css\" integrity=\"sha384-Vkoo8x4CGsO3+Hhxv8T/Q5PaXtkKtu6ug5TOeNV6gBiFeWPGFN9MuhOf23Q9Ifjh\" crossorigin=\"anonymous\">\n",
       "            <div id=\"progress_indicator_c256c04341f56714d5fbb44b2dc497a1\">\n",
       "              <div class=\"spinner-border text-info\" role=\"status\"></div>\n",
       "              <span class=\"text-info\">Processing... collect</span>\n",
       "            </div>\n",
       "            "
      ],
      "text/plain": [
       "<IPython.core.display.HTML object>"
      ]
     },
     "metadata": {},
     "output_type": "display_data"
    },
    {
     "data": {
      "application/javascript": "\n        if (typeof window.interactive_beam_jquery == 'undefined') {\n          var jqueryScript = document.createElement('script');\n          jqueryScript.src = 'https://code.jquery.com/jquery-3.4.1.slim.min.js';\n          jqueryScript.type = 'text/javascript';\n          jqueryScript.onload = function() {\n            var datatableScript = document.createElement('script');\n            datatableScript.src = 'https://cdn.datatables.net/1.10.20/js/jquery.dataTables.min.js';\n            datatableScript.type = 'text/javascript';\n            datatableScript.onload = function() {\n              window.interactive_beam_jquery = jQuery.noConflict(true);\n              window.interactive_beam_jquery(document).ready(function($){\n                \n            $(\"#progress_indicator_c256c04341f56714d5fbb44b2dc497a1\").remove();\n              });\n            }\n            document.head.appendChild(datatableScript);\n          };\n          document.head.appendChild(jqueryScript);\n        } else {\n          window.interactive_beam_jquery(document).ready(function($){\n            \n            $(\"#progress_indicator_c256c04341f56714d5fbb44b2dc497a1\").remove();\n          });\n        }"
     },
     "metadata": {},
     "output_type": "display_data"
    }
   ],
   "source": [
    "with pipeline as p:\n",
    "    results = (p \n",
    "    | \"CreateSentences\" >> beam.Create(text_strings_with_keys)\n",
    "    | \"RunInferenceSpacy\" >> RunInference(keyed_spacy_model_handler)\n",
    "    # Generate a schema suitable for conversion to a dataframe using Map to Row objects.\n",
    "    | 'ToRows' >> beam.Map(lambda row: beam.Row(key=row[0], text=row[1][0], predictions=row[1][1]))\n",
    "    )\n",
    "\n",
    "beam_df = to_dataframe(results)\n",
    "df = ib.collect(beam_df)"
   ]
  },
  {
   "cell_type": "code",
   "execution_count": 6,
   "id": "0b545057-709f-4d57-a6b2-7822e2c8252a",
   "metadata": {},
   "outputs": [
    {
     "data": {
      "text/html": [
       "<div>\n",
       "<style scoped>\n",
       "    .dataframe tbody tr th:only-of-type {\n",
       "        vertical-align: middle;\n",
       "    }\n",
       "\n",
       "    .dataframe tbody tr th {\n",
       "        vertical-align: top;\n",
       "    }\n",
       "\n",
       "    .dataframe thead th {\n",
       "        text-align: right;\n",
       "    }\n",
       "</style>\n",
       "<table border=\"1\" class=\"dataframe\">\n",
       "  <thead>\n",
       "    <tr style=\"text-align: right;\">\n",
       "      <th></th>\n",
       "      <th>key</th>\n",
       "      <th>text</th>\n",
       "      <th>predictions</th>\n",
       "    </tr>\n",
       "  </thead>\n",
       "  <tbody>\n",
       "    <tr>\n",
       "      <th>0</th>\n",
       "      <td>example_0</td>\n",
       "      <td>The New York Times is an American daily newspa...</td>\n",
       "      <td>[(The New York Times, 0, 18, ORG), (American, ...</td>\n",
       "    </tr>\n",
       "    <tr>\n",
       "      <th>1</th>\n",
       "      <td>example_1</td>\n",
       "      <td>It was founded in 1851 by Henry Jarvis Raymond...</td>\n",
       "      <td>[(1851, 18, 22, DATE), (Henry Jarvis Raymond, ...</td>\n",
       "    </tr>\n",
       "  </tbody>\n",
       "</table>\n",
       "</div>"
      ],
      "text/plain": [
       "         key                                               text  \\\n",
       "0  example_0  The New York Times is an American daily newspa...   \n",
       "1  example_1  It was founded in 1851 by Henry Jarvis Raymond...   \n",
       "\n",
       "                                         predictions  \n",
       "0  [(The New York Times, 0, 18, ORG), (American, ...  \n",
       "1  [(1851, 18, 22, DATE), (Henry Jarvis Raymond, ...  "
      ]
     },
     "execution_count": 6,
     "metadata": {},
     "output_type": "execute_result"
    }
   ],
   "source": [
    "df"
   ]
  },
  {
   "cell_type": "code",
   "execution_count": null,
   "id": "ca89dec9-312d-41b9-a6af-94d95288acfc",
   "metadata": {},
   "outputs": [],
   "source": []
  }
 ],
 "metadata": {
  "kernelspec": {
   "display_name": "venv",
   "language": "python",
   "name": "venv"
  },
  "language_info": {
   "codemirror_mode": {
    "name": "ipython",
    "version": 3
   },
   "file_extension": ".py",
   "mimetype": "text/x-python",
   "name": "python",
   "nbconvert_exporter": "python",
   "pygments_lexer": "ipython3",
   "version": "3.9.16"
  }
 },
 "nbformat": 4,
 "nbformat_minor": 5
}
